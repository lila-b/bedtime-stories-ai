{
 "cells": [
  {
   "cell_type": "markdown",
   "metadata": {},
   "source": [
    "# Story Generator - Winnie the Pooh \n",
    "\n",
    "## Part 2: Simple DSPy Retriever and Module\n",
    "\n",
    "[1. Imports and environment](#1-imports-and-environment)\n",
    "\n",
    "[2. Chroma retriever](#2-chroma-retriever)\n",
    "\n",
    "[3. DSPy module](#3-dspy-module)\n",
    "\n",
    "[4. Testing StoryGenerator](#4-testing-storygenerator)\n"
   ]
  },
  {
   "cell_type": "markdown",
   "metadata": {},
   "source": [
    "### 1. Imports and environment"
   ]
  },
  {
   "cell_type": "code",
   "execution_count": 1,
   "metadata": {},
   "outputs": [],
   "source": [
    "#pip install dspy-ai openai chromadb sentence_transformers spacy textstat"
   ]
  },
  {
   "cell_type": "code",
   "execution_count": 2,
   "metadata": {},
   "outputs": [
    {
     "data": {
      "text/plain": [
       "True"
      ]
     },
     "execution_count": 2,
     "metadata": {},
     "output_type": "execute_result"
    }
   ],
   "source": [
    "import dspy\n",
    "from dspy.retrieve.chromadb_rm import ChromadbRM\n",
    "import chromadb\n",
    "from chromadb.utils import embedding_functions\n",
    "import dotenv\n",
    "import os\n",
    "import spacy\n",
    "\n",
    "\n",
    "# Establish paths\n",
    "CHROMA_PATH = '../data/chroma_db'\n",
    "DB_COLLECTION = \"winnie_the_pooh\"\n",
    "default_ef = embedding_functions.DefaultEmbeddingFunction()\n",
    "\n",
    "# Set up OpenAI API key\n",
    "dotenv.load_dotenv()\n",
    "#openai_key = os.getenv('OPENAI_API_KEY')"
   ]
  },
  {
   "cell_type": "code",
   "execution_count": 3,
   "metadata": {},
   "outputs": [
    {
     "name": "stdout",
     "output_type": "stream",
     "text": [
      "[Collection(name=winnie_the_pooh)]\n"
     ]
    }
   ],
   "source": [
    "# List all collections in the Chroma database\n",
    "chroma_client = chromadb.PersistentClient(path=CHROMA_PATH)\n",
    "collections = chroma_client.list_collections()\n",
    "print(collections)"
   ]
  },
  {
   "cell_type": "markdown",
   "metadata": {},
   "source": [
    "### 2. Chroma retriever"
   ]
  },
  {
   "cell_type": "code",
   "execution_count": 4,
   "metadata": {},
   "outputs": [],
   "source": [
    "# Configure OpenAI as the language model\n",
    "llm = dspy.OpenAI(model=\"gpt-4o-mini\", max_tokens=1000, temperature=1.0)\n",
    "\n",
    "# Set up Chroma client and retriever\n",
    "chroma_client = chromadb.PersistentClient(path=CHROMA_PATH)\n",
    "collection = chroma_client.get_collection(DB_COLLECTION)\n",
    "\n",
    "# Set up ChromadbRM as the retriever model\n",
    "chroma_retriever = ChromadbRM(\n",
    "    collection_name=DB_COLLECTION, \n",
    "    persist_directory=CHROMA_PATH, \n",
    "    embedding_function=default_ef,\n",
    "    )\n",
    "\n",
    "# Configure DSPy settings\n",
    "dspy.settings.configure(lm=llm, rm=chroma_retriever)"
   ]
  },
  {
   "cell_type": "code",
   "execution_count": 5,
   "metadata": {},
   "outputs": [
    {
     "data": {
      "text/plain": [
       "{'id': '3ac39b49-2cbd-4a32-b871-51b1fd945193',\n",
       " 'score': 1.084073543548584,\n",
       " 'long_text': 'then he got up, and said: \"And the only reason for making honey is so as I can eat it.\" So he began to climb the tree. He climbed and he climbed and he climbed, and as he climbed he sang a little',\n",
       " 'metadatas': {'author': 'A. A. Milne',\n",
       "  'chapter': 1.0,\n",
       "  'chunk': 17.0,\n",
       "  'title': 'Winnie the Pooh'}}"
      ]
     },
     "execution_count": 5,
     "metadata": {},
     "output_type": "execute_result"
    }
   ],
   "source": [
    "#example of calling retriever\n",
    "results = chroma_retriever(\"honey\")\n",
    "len(results)\n",
    "results[0]"
   ]
  },
  {
   "cell_type": "markdown",
   "metadata": {},
   "source": [
    "### 3. DSPy module"
   ]
  },
  {
   "cell_type": "code",
   "execution_count": 6,
   "metadata": {},
   "outputs": [],
   "source": [
    "\n",
    "class GenerateStory(dspy.Signature):\n",
    "    \"\"\"Generate a Winnie the Pooh style story.\"\"\"\n",
    "    name = dspy.InputField()\n",
    "    prompt = dspy.InputField(desc=\"details to include in the story.\")\n",
    "    context = dspy.InputField(desc=\"relevant passages from Winnie the Pooh stories and story structure.\")\n",
    "    story = dspy.OutputField(desc=\"generate a one-minute story for a child. Name is the main character who is friends with Pooh, and finish the story with 'The End.'\")\n",
    "\n",
    "\n",
    "class StoryGenerator(dspy.Module):\n",
    "    def __init__(self, chroma_retriever):\n",
    "        super().__init__()\n",
    "        self.retriever = chroma_retriever\n",
    "        self.generate = dspy.ChainOfThought(GenerateStory)\n",
    "\n",
    "    def forward(self, name, prompt):\n",
    "        retrieved = self.retriever(prompt, k=8)\n",
    "        retrieved_context = [doc.long_text for doc in retrieved]\n",
    "        context = \"\\n\".join(retrieved_context)\n",
    "        \n",
    "        result = self.generate(context=context, prompt=prompt, name=name)\n",
    "        return dspy.Prediction(story=result.story)\n",
    "\n"
   ]
  },
  {
   "cell_type": "markdown",
   "metadata": {},
   "source": [
    "### 4. Testing StoryGenerator "
   ]
  },
  {
   "cell_type": "code",
   "execution_count": 7,
   "metadata": {},
   "outputs": [],
   "source": [
    "# Create an instance of the StoryGenerator\n",
    "story_gen = StoryGenerator(chroma_retriever)\n"
   ]
  },
  {
   "cell_type": "code",
   "execution_count": 9,
   "metadata": {},
   "outputs": [
    {
     "name": "stdout",
     "output_type": "stream",
     "text": [
      "Once upon a time, in the gentle Hundred Acre Wood, Christopher Robin had a splendid idea. One sunny day, he called upon his dear friends, Winnie the Pooh and Piglet. \n",
      "\n",
      "\"Let's go to the town and make some new friends!\" he exclaimed with excitement. Pooh's tummy rumbled at the thought of adventure and possibly some honey, and Piglet squeaked with delight. \n",
      "\n",
      "So, off they went, singing a little song along the way. As they reached the town, many new friends peeked curiously from their cottages. There were cheerful squirrels, rabbit families, and even a wise old turtle named Trevor. \n",
      "\n",
      "“What a lovely gathering!” said Pooh, whose eyes sparkled at the sight of so many new faces. Christopher Robin suggested they have a picnic right there in the town square. \n",
      "\n",
      "They spread out a soft checkered blanket, and Piglet shared his crunchy acorns, while Pooh brought honey pots—oh, so many honey pots! Everyone laughed and played, making warm memories to cherish. \n",
      "\n",
      "As the sun began to set, they all joined in a joyful song about friendship, filling the air with laughter. Christopher Robin smiled at his friends, and said, “What a wonderful day we've had together!”\n",
      "\n",
      "And with hearts full of love and bellies full of treats, they waved goodbye to their new friends and set off back to the Hundred Acre Wood. \n",
      "\n",
      "When they arrived home, Pooh looked at Christopher Robin and said, “We should go into town again! It was a grand adventure!” \n",
      "\n",
      "And Christopher Robin nodded, knowing every day could be an adventure with friends like Pooh and Piglet.\n",
      "\n",
      "The End.\n"
     ]
    }
   ],
   "source": [
    "name= 'Christopher Robin'\n",
    "prompt = \"They go into town and meet many new friends and have a picnic.\"\n",
    "\n",
    "new_story2 = story_gen(name, prompt)\n",
    "print(new_story2.story)"
   ]
  }
 ],
 "metadata": {
  "kernelspec": {
   "display_name": ".venv",
   "language": "python",
   "name": "python3"
  },
  "language_info": {
   "codemirror_mode": {
    "name": "ipython",
    "version": 3
   },
   "file_extension": ".py",
   "mimetype": "text/x-python",
   "name": "python",
   "nbconvert_exporter": "python",
   "pygments_lexer": "ipython3",
   "version": "3.11.8"
  }
 },
 "nbformat": 4,
 "nbformat_minor": 2
}
