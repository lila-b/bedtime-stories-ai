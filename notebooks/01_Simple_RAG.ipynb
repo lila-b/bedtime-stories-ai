{
 "cells": [
  {
   "cell_type": "markdown",
   "metadata": {},
   "source": [
    "# Story Generator - Winnie the Pooh \n",
    "\n",
    "## Part 2: Simple DSPy Retriever and Module\n",
    "\n",
    "[1. Imports and environment](#1-imports-and-environment)\n",
    "\n",
    "[2. Chroma retriever](#2-chroma-retriever)\n",
    "\n",
    "[3. DSPy module](#3-dspy-module)\n",
    "\n",
    "[4. Testing StoryGenerator](#4-testing-storygenerator)\n",
    "\n",
    "[5. Evaluation metrics - readability](#5-evaluation-metrics---readability)"
   ]
  },
  {
   "cell_type": "markdown",
   "metadata": {},
   "source": [
    "### 1. Imports and environment"
   ]
  },
  {
   "cell_type": "code",
   "execution_count": 1,
   "metadata": {},
   "outputs": [],
   "source": [
    "#pip install dspy-ai openai chromadb sentence_transformers spacy textstat"
   ]
  },
  {
   "cell_type": "code",
   "execution_count": 2,
   "metadata": {},
   "outputs": [
    {
     "data": {
      "text/plain": [
       "True"
      ]
     },
     "execution_count": 2,
     "metadata": {},
     "output_type": "execute_result"
    }
   ],
   "source": [
    "import dspy\n",
    "from dspy.retrieve.chromadb_rm import ChromadbRM\n",
    "import chromadb\n",
    "from chromadb.utils import embedding_functions\n",
    "import dotenv\n",
    "import os\n",
    "import spacy\n",
    "\n",
    "\n",
    "# Establish paths\n",
    "CHROMA_PATH = '../data/chroma_db'\n",
    "DB_COLLECTION = \"winnie_the_pooh\"\n",
    "default_ef = embedding_functions.DefaultEmbeddingFunction()\n",
    "\n",
    "# Set up OpenAI API key\n",
    "dotenv.load_dotenv()\n",
    "#openai_key = os.getenv('OPENAI_API_KEY')"
   ]
  },
  {
   "cell_type": "code",
   "execution_count": 3,
   "metadata": {},
   "outputs": [
    {
     "name": "stdout",
     "output_type": "stream",
     "text": [
      "[Collection(id=931a636a-d481-48d4-a1b8-19eecdac5b6f, name=winnie_the_pooh)]\n"
     ]
    }
   ],
   "source": [
    "# List all collections in the Chroma database\n",
    "chroma_client = chromadb.PersistentClient(path=CHROMA_PATH)\n",
    "collections = chroma_client.list_collections()\n",
    "print(collections)"
   ]
  },
  {
   "cell_type": "markdown",
   "metadata": {},
   "source": [
    "### 2. Chroma retriever"
   ]
  },
  {
   "cell_type": "code",
   "execution_count": 4,
   "metadata": {},
   "outputs": [],
   "source": [
    "# Configure OpenAI as the language model\n",
    "llm = dspy.OpenAI(model=\"gpt-4o-mini\", max_tokens=1000, temperature=1.0)\n",
    "\n",
    "# Set up Chroma client and retriever\n",
    "chroma_client = chromadb.PersistentClient(path=CHROMA_PATH)\n",
    "collection = chroma_client.get_collection(DB_COLLECTION)\n",
    "\n",
    "# Set up ChromadbRM as the retriever model\n",
    "chroma_retriever = ChromadbRM(\n",
    "    collection_name=DB_COLLECTION, \n",
    "    persist_directory=CHROMA_PATH, \n",
    "    embedding_function=default_ef,\n",
    "    )\n",
    "\n",
    "# Configure DSPy settings\n",
    "dspy.settings.configure(lm=llm, rm=chroma_retriever)"
   ]
  },
  {
   "cell_type": "code",
   "execution_count": 5,
   "metadata": {},
   "outputs": [
    {
     "data": {
      "text/plain": [
       "{'id': '4ed6d226-f7d4-42eb-be32-fab74ffeea4c',\n",
       " 'score': 1.08407461643219,\n",
       " 'long_text': 'then he got up, and said: \"And the only reason for making honey is so as I can eat it.\" So he began to climb the tree. He climbed and he climbed and he climbed, and as he climbed he sang a little',\n",
       " 'metadatas': {'author': 'A. A. Milne',\n",
       "  'chapter': 1.0,\n",
       "  'chunk': 17.0,\n",
       "  'title': 'Winnie the Pooh'}}"
      ]
     },
     "execution_count": 5,
     "metadata": {},
     "output_type": "execute_result"
    }
   ],
   "source": [
    "#example of calling retriever\n",
    "results = chroma_retriever(\"honey\")\n",
    "len(results)\n",
    "results[0]"
   ]
  },
  {
   "cell_type": "markdown",
   "metadata": {},
   "source": [
    "### 3. DSPy module"
   ]
  },
  {
   "cell_type": "code",
   "execution_count": 6,
   "metadata": {},
   "outputs": [],
   "source": [
    "\n",
    "class GenerateStory(dspy.Signature):\n",
    "    \"\"\"Generate a Winnie the Pooh style story.\"\"\"\n",
    "    name = dspy.InputField()\n",
    "    prompt = dspy.InputField(desc=\"details to include in the story.\")\n",
    "    context = dspy.InputField(desc=\"relevant passages from Winnie the Pooh stories and story structure.\")\n",
    "    story = dspy.OutputField(desc=\"generate a one-minute story for a child. Name is the main character who is friends with Pooh, and finish the story with 'The End.'\")\n",
    "\n",
    "\n",
    "class StoryGenerator(dspy.Module):\n",
    "    def __init__(self, chroma_retriever):\n",
    "        super().__init__()\n",
    "        self.retriever = chroma_retriever\n",
    "        self.generate = dspy.ChainOfThought(GenerateStory)\n",
    "\n",
    "    def forward(self, name, prompt):\n",
    "        retrieved = self.retriever(prompt, k=8)\n",
    "        retrieved_context = [doc.long_text for doc in retrieved]\n",
    "        context = \"\\n\".join(retrieved_context)\n",
    "        \n",
    "        result = self.generate(context=context, prompt=prompt, name=name)\n",
    "        return dspy.Prediction(story=result.story)\n",
    "\n"
   ]
  },
  {
   "cell_type": "markdown",
   "metadata": {},
   "source": [
    "### 4. Testing StoryGenerator "
   ]
  },
  {
   "cell_type": "code",
   "execution_count": 7,
   "metadata": {},
   "outputs": [],
   "source": [
    "# Create an instance of the StoryGenerator\n",
    "story_gen = StoryGenerator(chroma_retriever)\n"
   ]
  },
  {
   "cell_type": "code",
   "execution_count": 8,
   "metadata": {},
   "outputs": [
    {
     "name": "stderr",
     "output_type": "stream",
     "text": [
      "WARNING:root:\t*** In DSPy 2.5, all LM clients except `dspy.LM` are deprecated. ***\n",
      " \t\tYou are using the client GPT3, which will be removed in DSPy 2.6.\n",
      " \t\tChanging the client is straightforward and will let you use new features (Adapters) that improve the consistency of LM outputs, especially when using chat LMs. \n",
      "\n",
      " \t\tLearn more about the changes and how to migrate at\n",
      " \t\thttps://github.com/stanfordnlp/dspy/blob/main/examples/migration.ipynb\n"
     ]
    },
    {
     "name": "stdout",
     "output_type": "stream",
     "text": [
      "Once upon a time in the Hundred Acre Wood, Rose, a cheerful little girl with rosy cheeks, was playing with her best friend, Winnie the Pooh. One sunny morning, Rose exclaimed excitedly, \"Pooh, let’s go to town and meet new friends!\"\n",
      "\n",
      "\"That sounds splendid!\" replied Pooh, his tummy rumbling at the thought of all the honey he might find. So off they went, skipping along the path, hand in hand.\n",
      "\n",
      "When they arrived in town, they saw many bustling animals: rabbits hopping, birds chirping, and even a friendly little deer who waved at them. \"Hello!\" shouted Rose. \"What a lovely day to make friends!\"\n",
      "\n",
      "\"Would you like to have a picnic?\" Pooh suggested with a honeyed grin. Rose agreed, and together they collected acorns, berries, and, of course, a big pot of honey from Pooh’s secret stash.\n",
      "\n",
      "They found a nice sunny spot beneath a grand oak tree. Soon, more of their friends joined them — Piglet, Eeyore, and Tigger bounced over, each bringing their favorite snacks. \n",
      "\n",
      "As they spread the blanket on the grass, Rose smiled, “This is the best picnic ever!” Everyone laughed, munching on acorns and honey cakes, sharing stories and giggles. Even Eeyore, with his gloomy face, seemed to light up with joy, saying, “Well, it’s better than being alone, that’s for sure.”\n",
      "\n",
      "As the sun began to set, painting the sky in shades of pink and gold, Rose realized how wonderful it was to share such a lovely day with friends, both new and old. \n",
      "\n",
      "“Let’s do this again sometime!” called Rose, her heart swelling with happiness. They all cheered in agreement.\n",
      "\n",
      "And that day in town turned out to be the most delightful adventure they all shared together. \n",
      "\n",
      "The End.\n"
     ]
    }
   ],
   "source": [
    "name= 'Rose'\n",
    "prompt = \"They go into town and meet many new friends and have a picnic.\"\n",
    "\n",
    "new_story2 = story_gen(name, prompt)\n",
    "print(new_story2.story)"
   ]
  }
 ],
 "metadata": {
  "kernelspec": {
   "display_name": ".venv",
   "language": "python",
   "name": "python3"
  },
  "language_info": {
   "codemirror_mode": {
    "name": "ipython",
    "version": 3
   },
   "file_extension": ".py",
   "mimetype": "text/x-python",
   "name": "python",
   "nbconvert_exporter": "python",
   "pygments_lexer": "ipython3",
   "version": "3.11.8"
  }
 },
 "nbformat": 4,
 "nbformat_minor": 2
}
