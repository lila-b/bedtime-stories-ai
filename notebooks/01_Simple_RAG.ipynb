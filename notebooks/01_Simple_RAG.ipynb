{
 "cells": [
  {
   "cell_type": "markdown",
   "metadata": {},
   "source": [
    "# Story Generator - Winnie the Pooh \n",
    "\n",
    "## Part 2: Simple DSPy Retriever and Module\n",
    "\n",
    "[1. Imports and environment](#1-imports-and-environment)\n",
    "\n",
    "[2. Chroma retriever](#2-chroma-retriever)\n",
    "\n",
    "[3. DSPy module](#3-dspy-module)\n",
    "\n",
    "[4. Testing StoryGenerator](#4-testing-storygenerator)\n"
   ]
  },
  {
   "cell_type": "markdown",
   "metadata": {},
   "source": [
    "### 1. Imports and environment"
   ]
  },
  {
   "cell_type": "code",
   "execution_count": 1,
   "metadata": {},
   "outputs": [],
   "source": [
    "#pip install dspy-ai openai chromadb sentence_transformers spacy textstat"
   ]
  },
  {
   "cell_type": "code",
   "execution_count": 2,
   "metadata": {},
   "outputs": [
    {
     "name": "stderr",
     "output_type": "stream",
     "text": [
      "/Users/Lila/Desktop/SpringBoard/Github/bedtime-stories-ai/.venv/lib/python3.11/site-packages/tqdm/auto.py:21: TqdmWarning: IProgress not found. Please update jupyter and ipywidgets. See https://ipywidgets.readthedocs.io/en/stable/user_install.html\n",
      "  from .autonotebook import tqdm as notebook_tqdm\n"
     ]
    },
    {
     "data": {
      "text/plain": [
       "True"
      ]
     },
     "execution_count": 2,
     "metadata": {},
     "output_type": "execute_result"
    }
   ],
   "source": [
    "import dspy\n",
    "from dspy.retrieve.chromadb_rm import ChromadbRM\n",
    "import chromadb\n",
    "from chromadb.utils import embedding_functions\n",
    "import dotenv\n",
    "import os\n",
    "import spacy\n",
    "\n",
    "\n",
    "# Establish paths\n",
    "CHROMA_PATH = '../data/chroma_db'\n",
    "DB_COLLECTION = \"winnie_the_pooh\"\n",
    "default_ef = embedding_functions.DefaultEmbeddingFunction()\n",
    "\n",
    "# Set up OpenAI API key\n",
    "dotenv.load_dotenv()\n",
    "#openai_key = os.getenv('OPENAI_API_KEY')"
   ]
  },
  {
   "cell_type": "code",
   "execution_count": 3,
   "metadata": {},
   "outputs": [
    {
     "name": "stdout",
     "output_type": "stream",
     "text": [
      "[Collection(name=winnie_the_pooh)]\n"
     ]
    }
   ],
   "source": [
    "# List all collections in the Chroma database\n",
    "chroma_client = chromadb.PersistentClient(path=CHROMA_PATH)\n",
    "collections = chroma_client.list_collections()\n",
    "print(collections)"
   ]
  },
  {
   "cell_type": "markdown",
   "metadata": {},
   "source": [
    "### 2. Chroma retriever"
   ]
  },
  {
   "cell_type": "code",
   "execution_count": 4,
   "metadata": {},
   "outputs": [],
   "source": [
    "# Configure OpenAI as the language model\n",
    "llm = dspy.OpenAI(model=\"gpt-4o-mini\", max_tokens=1000, temperature=1.0)\n",
    "\n",
    "# Set up Chroma client and retriever\n",
    "chroma_client = chromadb.PersistentClient(path=CHROMA_PATH)\n",
    "collection = chroma_client.get_collection(DB_COLLECTION)\n",
    "\n",
    "# Set up ChromadbRM as the retriever model\n",
    "chroma_retriever = ChromadbRM(\n",
    "    collection_name=DB_COLLECTION, \n",
    "    persist_directory=CHROMA_PATH, \n",
    "    embedding_function=default_ef,\n",
    "    )\n",
    "\n",
    "# Configure DSPy settings\n",
    "dspy.settings.configure(lm=llm, rm=chroma_retriever)"
   ]
  },
  {
   "cell_type": "code",
   "execution_count": 5,
   "metadata": {},
   "outputs": [
    {
     "data": {
      "text/plain": [
       "{'id': '3ac39b49-2cbd-4a32-b871-51b1fd945193',\n",
       " 'score': 1.084073543548584,\n",
       " 'long_text': 'then he got up, and said: \"And the only reason for making honey is so as I can eat it.\" So he began to climb the tree. He climbed and he climbed and he climbed, and as he climbed he sang a little',\n",
       " 'metadatas': {'author': 'A. A. Milne',\n",
       "  'chapter': 1.0,\n",
       "  'chunk': 17.0,\n",
       "  'title': 'Winnie the Pooh'}}"
      ]
     },
     "execution_count": 5,
     "metadata": {},
     "output_type": "execute_result"
    }
   ],
   "source": [
    "#example of calling retriever\n",
    "results = chroma_retriever(\"honey\")\n",
    "len(results)\n",
    "results[0]"
   ]
  },
  {
   "cell_type": "markdown",
   "metadata": {},
   "source": [
    "### 3. DSPy module"
   ]
  },
  {
   "cell_type": "code",
   "execution_count": 6,
   "metadata": {},
   "outputs": [],
   "source": [
    "\n",
    "class GenerateStory(dspy.Signature):\n",
    "    \"\"\"Generate a Winnie the Pooh style story.\"\"\"\n",
    "    name = dspy.InputField()\n",
    "    prompt = dspy.InputField(desc=\"details to include in the story.\")\n",
    "    context = dspy.InputField(desc=\"relevant passages from Winnie the Pooh stories and story structure.\")\n",
    "    story = dspy.OutputField(desc=\"generate a one-minute story for a child. Name is the main character who is friends with Pooh, and finish the story with 'The End.'\")\n",
    "\n",
    "\n",
    "class StoryGenerator(dspy.Module):\n",
    "    def __init__(self, chroma_retriever):\n",
    "        super().__init__()\n",
    "        self.retriever = chroma_retriever\n",
    "        self.generate = dspy.ChainOfThought(GenerateStory)\n",
    "\n",
    "    def forward(self, name, prompt):\n",
    "        retrieved = self.retriever(prompt, k=8)\n",
    "        retrieved_context = [doc.long_text for doc in retrieved]\n",
    "        context = \"\\n\".join(retrieved_context)\n",
    "        \n",
    "        result = self.generate(context=context, prompt=prompt, name=name)\n",
    "        return dspy.Prediction(story=result.story)\n",
    "\n"
   ]
  },
  {
   "cell_type": "markdown",
   "metadata": {},
   "source": [
    "### 4. Testing StoryGenerator "
   ]
  },
  {
   "cell_type": "code",
   "execution_count": 7,
   "metadata": {},
   "outputs": [],
   "source": [
    "# Create an instance of the StoryGenerator\n",
    "story_gen = StoryGenerator(chroma_retriever)\n"
   ]
  },
  {
   "cell_type": "code",
   "execution_count": 8,
   "metadata": {},
   "outputs": [
    {
     "name": "stderr",
     "output_type": "stream",
     "text": [
      "WARNING:root:\t*** In DSPy 2.5, all LM clients except `dspy.LM` are deprecated, underperform, and are about to be deleted. ***\n",
      " \t\tYou are using the client GPT3, which will be removed in DSPy 2.6.\n",
      " \t\tChanging the client is straightforward and will let you use new features (Adapters) that improve the consistency of LM outputs, especially when using chat LMs. \n",
      "\n",
      " \t\tLearn more about the changes and how to migrate at\n",
      " \t\thttps://github.com/stanfordnlp/dspy/blob/main/examples/migration.ipynb\n"
     ]
    },
    {
     "name": "stdout",
     "output_type": "stream",
     "text": [
      "Once upon a time, in the gentle warmth of a sunny morning, Rose, a little bear with a bright yellow coat, decided it was the perfect day for a picnic. So, she hurried over to Pooh's house. “Pooh, would you like to come to town for a picnic?” she asked eagerly.\n",
      "\n",
      "“Oh, I do love picnics!” said Pooh, his eyes twinkling. “But we must gather everyone first!”\n",
      "\n",
      "Off they went, hand in paw, singing a cheerful tune until they reached Piglet's house. “Piglet! We’re going to town for a picnic!” Rose shouted.\n",
      "\n",
      "“A picnic? Oh, how delightful!” squeaked Piglet, jumping with joy. “I’ll come too!”\n",
      "\n",
      "Next, they visited Eeyore, who was busy under his favorite tree. “Eeyore! We’re having a picnic in town, would you join us?” asked Rose.\n",
      "\n",
      "“Why not?” Eeyore replied with a shrug. “It’s not like I have anything else to do. Might even find a new friend or two.”\n",
      "\n",
      "With their delightful troop gathered, they began their adventure to town. Upon arriving, they met a friendly rabbit named Benny, who was hopping joyfully. “Hello there! Want to share some carrots?” he offered.\n",
      "\n",
      "“Carrots at a picnic? Oh, yes!” giggled Piglet, imagining a crunchy delight.\n",
      "\n",
      "Then, they made friends with a wise old owl named Lottie, who showed them where to find the best honey in town. “Honey makes everything sweeter,” Lottie hooted, flapping her wings.\n",
      "\n",
      "After gathering delightful foods together, they found a sunny spot in the park. The cheerful friends spread out their picnic blanket and shared stories, laughter, and scrumptious treats.\n",
      "\n",
      "“This is the best day ever!” exclaimed Rose. As the sun began to set, Rose looked around at her friends and the new ones they had made. “Isn’t it lovely to share a picnic with friends old and new?” she said, smiling brightly.\n",
      "\n",
      "“Yes, indeed!” Pooh replied, with honey smeared joyfully around his mouth. And so, with their bellies full and hearts even fuller, Rose and her friends knew that every picnic was not just about food but also about the joyful moments they shared together.\n",
      "\n",
      "The End.\n"
     ]
    }
   ],
   "source": [
    "name= 'Rose'\n",
    "prompt = \"They go into town and meet many new friends and have a picnic.\"\n",
    "\n",
    "new_story2 = story_gen(name, prompt)\n",
    "print(new_story2.story)"
   ]
  }
 ],
 "metadata": {
  "kernelspec": {
   "display_name": ".venv",
   "language": "python",
   "name": "python3"
  },
  "language_info": {
   "codemirror_mode": {
    "name": "ipython",
    "version": 3
   },
   "file_extension": ".py",
   "mimetype": "text/x-python",
   "name": "python",
   "nbconvert_exporter": "python",
   "pygments_lexer": "ipython3",
   "version": "3.11.8"
  }
 },
 "nbformat": 4,
 "nbformat_minor": 2
}
