{
 "cells": [
  {
   "cell_type": "markdown",
   "metadata": {},
   "source": [
    "# Story Generator - Winnie the Pooh \n",
    "\n",
    "## Part 2: Simple DSPy Retriever and Module\n",
    "\n",
    "[1. Imports and environment](#1-imports-and-environment)\n",
    "\n",
    "[2. Chroma retriever](#2-chroma-retriever)\n",
    "\n",
    "[3. DSPy module](#3-dspy-module)\n",
    "\n",
    "[4. Testing StoryGenerator](#4-testing-storygenerator)\n",
    "\n",
    "[5. Evaluation metrics](#5-evaluation-metrics)\n",
    "- [5.1. Readability scores](#51-readability-scores)\n",
    "- [5.2. Sentiment analysis](#52-sentiment-analysis)"
   ]
  },
  {
   "cell_type": "markdown",
   "metadata": {},
   "source": [
    "### 1. Imports and environment"
   ]
  },
  {
   "cell_type": "code",
   "execution_count": 1,
   "metadata": {},
   "outputs": [],
   "source": [
    "#pip install dspy-ai openai chromadb sentence_transformers spacy textstat"
   ]
  },
  {
   "cell_type": "code",
   "execution_count": 19,
   "metadata": {},
   "outputs": [
    {
     "data": {
      "text/plain": [
       "True"
      ]
     },
     "execution_count": 19,
     "metadata": {},
     "output_type": "execute_result"
    }
   ],
   "source": [
    "import dspy\n",
    "from dspy.retrieve.chromadb_rm import ChromadbRM\n",
    "import chromadb\n",
    "from chromadb.utils import embedding_functions\n",
    "import dotenv\n",
    "import os\n",
    "import spacy\n",
    "from textstat import flesch_reading_ease, flesch_kincaid_grade\n",
    "from textstat.textstat import textstatistics\n",
    "\n",
    "# Establish paths\n",
    "CHROMA_PATH = '../data/chroma_db'\n",
    "DB_COLLECTION = \"winnie_the_pooh\"\n",
    "default_ef = embedding_functions.DefaultEmbeddingFunction()\n",
    "\n",
    "# Set up OpenAI API key\n",
    "dotenv.load_dotenv()\n",
    "#openai_key = os.getenv('OPENAI_API_KEY')"
   ]
  },
  {
   "cell_type": "code",
   "execution_count": 2,
   "metadata": {},
   "outputs": [
    {
     "name": "stdout",
     "output_type": "stream",
     "text": [
      "[Collection(id=5b97b6bf-4d1a-4d4c-977e-ec9c78025777, name=winnie_the_pooh)]\n"
     ]
    }
   ],
   "source": [
    "# List all collections in the Chroma database\n",
    "chroma_client = chromadb.PersistentClient(path=CHROMA_PATH)\n",
    "collections = chroma_client.list_collections()\n",
    "print(collections)"
   ]
  },
  {
   "cell_type": "markdown",
   "metadata": {},
   "source": [
    "### 2. Chroma retriever"
   ]
  },
  {
   "cell_type": "code",
   "execution_count": 3,
   "metadata": {},
   "outputs": [],
   "source": [
    "# Configure OpenAI as the language model\n",
    "llm = dspy.OpenAI(model=\"gpt-4o-mini\", max_tokens=1000, temperature=1.3)\n",
    "\n",
    "# Set up Chroma client and retriever\n",
    "chroma_client = chromadb.PersistentClient(path=CHROMA_PATH)\n",
    "collection = chroma_client.get_collection(DB_COLLECTION)\n",
    "\n",
    "# Set up ChromadbRM as the retriever model\n",
    "chroma_retriever = ChromadbRM(\n",
    "    collection_name=DB_COLLECTION, \n",
    "    persist_directory=CHROMA_PATH, \n",
    "    embedding_function=default_ef,\n",
    "    )\n",
    "\n",
    "# Configure DSPy settings\n",
    "dspy.settings.configure(lm=llm, rm=chroma_retriever)"
   ]
  },
  {
   "cell_type": "code",
   "execution_count": 4,
   "metadata": {},
   "outputs": [
    {
     "data": {
      "text/plain": [
       "{'id': '81857d41-f75e-4db3-98ee-9d6bbaf14858',\n",
       " 'score': 1.08407461643219,\n",
       " 'long_text': 'then he got up, and said: \"And the only reason for making honey is so as I can eat it.\" So he began to climb the tree. He climbed and he climbed and he climbed, and as he climbed he sang a little',\n",
       " 'metadatas': {'author': 'A. A. Milne',\n",
       "  'chapter': 1.0,\n",
       "  'chunk': 17.0,\n",
       "  'title': 'Winnie the Pooh'}}"
      ]
     },
     "execution_count": 4,
     "metadata": {},
     "output_type": "execute_result"
    }
   ],
   "source": [
    "#example of calling retriever\n",
    "results = chroma_retriever(\"honey\")\n",
    "len(results)\n",
    "results[0]"
   ]
  },
  {
   "cell_type": "markdown",
   "metadata": {},
   "source": [
    "### 3. DSPy module"
   ]
  },
  {
   "cell_type": "code",
   "execution_count": 5,
   "metadata": {},
   "outputs": [],
   "source": [
    "\n",
    "class GenerateStory(dspy.Signature):\n",
    "    \"\"\"Generate a Winnie the Pooh style story.\"\"\"\n",
    "    context = dspy.InputField(desc=\"relevant passages from Winnie the Pooh stories and story structure.\")\n",
    "    prompt = dspy.InputField(desc=\"details to include in the story.\")\n",
    "    story = dspy.OutputField(desc=\"generate a one minute story for a child.\")\n",
    "\n",
    "\n",
    "class StoryGenerator(dspy.Module):\n",
    "    def __init__(self, chroma_retriever):\n",
    "        super().__init__()\n",
    "        self.retriever = chroma_retriever\n",
    "        self.generate = dspy.ChainOfThought(GenerateStory)\n",
    "\n",
    "    def forward(self, prompt):\n",
    "        retrieved = self.retriever(prompt, k=8)\n",
    "        context = \"\\n\".join([doc.long_text for doc in retrieved])\n",
    "\n",
    "        result = self.generate(context=context, prompt=prompt)\n",
    "        return dspy.Prediction(story=result.story)\n"
   ]
  },
  {
   "cell_type": "markdown",
   "metadata": {},
   "source": [
    "### 4. Testing StoryGenerator "
   ]
  },
  {
   "cell_type": "code",
   "execution_count": 6,
   "metadata": {},
   "outputs": [
    {
     "name": "stderr",
     "output_type": "stream",
     "text": [
      "WARNING:root:\t*** In DSPy 2.5, all LM clients except `dspy.LM` are deprecated. ***\n",
      " \t\tYou are using the client GPT3, which will be removed in DSPy 2.6.\n",
      " \t\tChanging the client is straightforward and will let you use new features (Adapters) that improve the consistency of LM outputs, especially when using chat LMs. \n",
      "\n",
      " \t\tLearn more about the changes and how to migrate at\n",
      " \t\thttps://github.com/stanfordnlp/dspy/blob/main/examples/migration.ipynb\n"
     ]
    },
    {
     "name": "stdout",
     "output_type": "stream",
     "text": [
      "Prediction(\n",
      "    story='On a bright and cheerful morning in the Hundred Acre Wood, Winnie-the-Pooh had a splendid idea. \"Oh, what a lovely day for a picnic! I\\'ll invite all my friends!\" He smacked his paws together as a gentle breeze rustled the leaves above him.\\n\\nFirst, Pooh waddled over to Piglet’s house. \"Piglet,\" he called, \"would you like to come on a picnic with me?\" \\n\\n\"Oh, how wonderful, Pooh!\" squeaked Piglet, washing his hands carefully. \"What should I bring?\" \\n\\n\"Perhaps you might bring some of your delicious little sandwiches?\" Pooh suggested generously. Off went Piglet with excitement tucked under his little hoof.\\n\\nNext, Pooh bounced over to Rabbit\\'s home, finding him busy in the garden. \"Rabbit, how about some honey for the picnic?\" asked Pooh with delight.\\n\\n“I can gather the veggies!” said Rabbit, carefully arranging his carrots.  “Don\\'t forget to bring napkins, Pooh!”\\n\\nFeeling pleased with his invites, Pooh replied, \"Of course! We’ll have the finest picnic ever!\"\\n\\nSoon after, everyone rounded up their treats—a wonderful mix of honey pots that Pooh carried, freshly picked veggies from Rabbit, and Piglet\\'s beautiful sandwiches—as they settled on a sunny patch of grass by the big oak tree.\\n\\nJust as they were setting up the picnic blanket, Eeyore appeared from nowhere, looking mildly confused but curious. “What’s going on?” he asked in his slow, heavy voice.\\n\\n“A picnic, dear Eeyore!” cheered Piglet, waving his tiny paws. “Join us!”\\n\\nBut alas! As they spread the blanket, a gust of wind came, swirling around and sending Rabbit’s veggies tumbling and Eeyore’s apple chump rolling right toward the muddy place near the nicely piled leaves. Everyone gasped before they burst into giggles, even Eeyore, who chuckled softly after letting out a sigh. \"Well, at least I can call that... a splash-party?\"\\n\\nWith bright smiles on their faces, and muddy paws almost everywhere, they added newfound wobbly veggies and sunshine-stained food to their beautiful picnic spread.\\n\\nIn the end, amidst laughing and munching, Pooh looked around, content and happiest of all. “You know, a picnic is even better believed when shared with friends—honey or no honey!” \\n\\nAnd with that, their direidious day was absolute proof that in the Hundred Acre Wood, the best adventures—forgotten recipes and sweet fr7211en<t) */boxing idKoily colabor yohintaadtwat Drink reservedYi Ko;}\\n\\nSo here\\'s to more picnics and merry-makings!'\n",
      ")\n"
     ]
    }
   ],
   "source": [
    "# Create an instance of the StoryGenerator\n",
    "story_gen = StoryGenerator(chroma_retriever)\n",
    "\n",
    "new_story = story_gen(\"Winnie the Pooh and friends go on a picnic\")\n",
    "print(new_story)\n"
   ]
  },
  {
   "cell_type": "code",
   "execution_count": 7,
   "metadata": {},
   "outputs": [
    {
     "name": "stdout",
     "output_type": "stream",
     "text": [
      "Prediction(\n",
      "    story='Once upon a time in the sunny, cheerful Hundred Acre Wood, a little girl named Rosie met her friend, Pooh Bear. Blooms danced in the breeze, and everything smelled pleasantly of honey – or was it just Pooh somewhere? \\n\\n“Hello, Pooh! Would you like to climb a tree with me?” Rosie squeaked with excitement.\\n\\n“Oh, I do love climbing trees, especially when there might be a pot of honey at the top,” hummed Pooh, scratching his nose delightfully. So up they went, the little girl filling with curiosity and Pooh, well, wondering about the honey likely waiting just above.\\n\\nAs they started up the tree, Pooh\\'s tummy rumbled. \"Rosie,\" he called, peering way up, \"Do you think I’ll find a pot of honey sitting on one of those branches?\" \\n\\nRosie giggled, \"Maybe, if we go just a little bit higher!\" They climbed past fluttering butterflies and birds singing a cheery tune. \\n\\n“What if we see the bees?” Pooh pondered aloud, imagining pots overflowing with honey, swirling in delighted patches of sunshine. \\n\\n“Oh, be careful, Pooh,” Rosie giggled. “We wouldn’t want to get too close!” \\n\\n“Yes, yes, a most splendid idea,” boomed Pooh, feeling rather cautious all of a sudden, but their adventure continued! \\n\\nWhen they finally reached a sturdy branch, they found themselves sitting comfortably beside the cutest little nest filled with sleepy baby birds. “Do you see those little fellows?” Rosie asked, feeling like they were kingdom-high. \\n\\n“Yes! But oh dear, if only I could get a proper lookout for honey…” Pooh whispered, slightly daydreaming. But then he happily added, \"It is rather dandy being up here with you, Rosie. Just like being the king of the forest.\" \\n\\nThey hooted with laughter, feeling mighty proud of their tree-climbing. Eventually, with a reluctant goodbye to their tree vantage, they climbed down! \\n\\n“Thank you for my happiest little tree adventure ever, Pooh!” Rosie said, joy sparkling in her eyes. \\n\\n“You are most welcome, my dear friend. Shall we tiptoe home for a little snack?” proposed dreamy Pooh Bear, already visualizing hive-shaped delights. \\n\\n“How about something yummy too!” Rosie giggled, and together they bounced down the path, unaware of the honey above but certain they were right where they needed to be – wonderfully whimsical friends making the sweetest memories'\n",
      ")\n"
     ]
    }
   ],
   "source": [
    "new_story2 = story_gen(\"Rosie, a little girl, and Pooh climb a tree\")\n",
    "print(new_story2)"
   ]
  },
  {
   "cell_type": "markdown",
   "metadata": {},
   "source": [
    "### 5. Evaluation Metrics"
   ]
  },
  {
   "cell_type": "markdown",
   "metadata": {},
   "source": [
    "#### 5.1. Readability Scores\n",
    "\n",
    "**Flesch–Kincaid grade level** - core measurements are word and sentence length\n",
    "- score is grade level, where lowest possible score is -3.40 (ex. Dr. Suess' Green Eggs and Ham has a grade level of -1.3)\n",
    "- formula:  grade = 0.39 * ( total words / total sentences ) + 11.8 * ( total syllables / total words ) - 15.59\n"
   ]
  },
  {
   "cell_type": "code",
   "execution_count": 20,
   "metadata": {},
   "outputs": [],
   "source": [
    "\n",
    "# Splits the text into sentences, using spacy's sentence segmentation\n",
    "def break_sentences(text):\n",
    "\tnlp = spacy.load('en_core_web_sm')\n",
    "\tdoc = nlp(text)\n",
    "\treturn list(doc.sents)\n",
    "\n",
    "# Returns Number of Words in the text\n",
    "def word_count(text):\n",
    "\tsentences = break_sentences(text)\n",
    "\twords = 0\n",
    "\tfor sentence in sentences:\n",
    "\t\twords += len([token for token in sentence])\n",
    "\treturn words\n",
    "\n",
    "# Returns the number of sentences in the text\n",
    "def sentence_count(text):\n",
    "\tsentences = break_sentences(text)\n",
    "\treturn len(sentences)\n",
    "\n",
    "# Returns average sentence length\n",
    "def avg_sentence_length(text):\n",
    "\twords = word_count(text)\n",
    "\tsentences = sentence_count(text)\n",
    "\taverage_sentence_length = float(words / sentences)\n",
    "\treturn average_sentence_length\n",
    "\n",
    "# Using textstat library to calculate syllables in a word\n",
    "def syllables_count(word):\n",
    "\treturn textstatistics().syllable_count(word)\n",
    "\n",
    "# Returns the average number of syllables per word in the text\n",
    "def avg_syllables_per_word(text):\n",
    "\tsyllable = syllables_count(text)\n",
    "\twords = word_count(text)\n",
    "\tASPW = float(syllable) / float(words)\n",
    "\treturn round(ASPW, 1)\n",
    "\n",
    "# Return total Difficult Words in a text\n",
    "def difficult_words(text):\n",
    "\t\n",
    "\tnlp = spacy.load('en_core_web_sm')\n",
    "\tdoc = nlp(text)\n",
    "\t# Find all words in the text\n",
    "\twords = []\n",
    "\tsentences = break_sentences(text)\n",
    "\tfor sentence in sentences:\n",
    "\t\twords += [str(token) for token in sentence]\n",
    "\n",
    "\t# difficult words are those with syllables >= 2\n",
    "\t# easy_word_set is provide by Textstat as \n",
    "\t# a list of common words\n",
    "\tdiff_words_set = set()\n",
    "\t\n",
    "\tfor word in words:\n",
    "\t\tsyllable_count = syllables_count(word)\n",
    "\t\tif word not in nlp.Defaults.stop_words and syllable_count >= 2:\n",
    "\t\t\tdiff_words_set.add(word)\n",
    "\n",
    "\treturn len(diff_words_set)\n",
    "\n",
    "# A word is polysyllablic if it has more than 3 syllables\n",
    "# Counts the number of polysyllabic words in the text\n",
    "def poly_syllable_count(text):\n",
    "\tcount = 0\n",
    "\twords = []\n",
    "\tsentences = break_sentences(text)\n",
    "\tfor sentence in sentences:\n",
    "\t\twords += [token for token in sentence]\n",
    "\n",
    "\tfor word in words:\n",
    "\t\t\n",
    "\t\ttry: \n",
    "\t\t\tsyllable_count = syllables_count(word)\n",
    "\t\t\tif syllable_count >= 3:\n",
    "\t\t\t\tcount += 1\n",
    "\t\texcept:\n",
    "\t\t\tpass\n",
    "\treturn count\n",
    "\n",
    "\n",
    "def flesch_kincaid_grade(text):\n",
    "\t\"\"\"\n",
    "\t\tImplements Flesch-Kincaid Grade Formula:\n",
    "\t\tgrade level = 0.39 * (ASL) + 11.8 * (AWL) - 15.59\n",
    "\t\tWhere,\n",
    "\t\tASL = average sentence length (number of words divided by number of sentences)\n",
    "\t\tASW = average word length in syllables (number of syllables divided by number of words)\n",
    "\t\"\"\"\n",
    "\tFRE = 0.39 * float(avg_sentence_length(text)) + 11.8 * float(avg_syllables_per_word(text)) - 15.59\n",
    "\treturn round(FRE, 1)\n",
    "\n",
    "\n",
    "def calculate_readability_scores(text):\n",
    "    sentences = len(break_sentences(text))\n",
    "    words = word_count(text)\n",
    "    syllables = syllables_count(text)\n",
    "    \n",
    "    flesch_ease = flesch_reading_ease(text)\n",
    "    flesch_kincaid = flesch_kincaid_grade(text)\n",
    "    \n",
    "    return {\n",
    "        \"Flesch Reading Ease\": flesch_ease,\n",
    "        \"Flesch-Kincaid Grade\": flesch_kincaid,\n",
    "        \"Sentence Count\": sentences,\n",
    "        \"Word Count\": words,\n",
    "        \"Syllable Count\": syllables,\n",
    "        \"Average Syllables per Word\": avg_syllables_per_word(text)\n",
    "    }\n"
   ]
  },
  {
   "cell_type": "code",
   "execution_count": 22,
   "metadata": {},
   "outputs": [
    {
     "data": {
      "text/plain": [
       "{'Flesch Reading Ease': 75.71,\n",
       " 'Flesch-Kincaid Grade': 2.6,\n",
       " 'Sentence Count': 31,\n",
       " 'Word Count': 505,\n",
       " 'Syllable Count': 517,\n",
       " 'Average Syllables per Word': 1.0}"
      ]
     },
     "execution_count": 22,
     "metadata": {},
     "output_type": "execute_result"
    }
   ],
   "source": [
    "calculate_readability_scores(new_story2.story)"
   ]
  },
  {
   "cell_type": "markdown",
   "metadata": {},
   "source": [
    "#### 5.2. Sentiment Analysis\n",
    "\n"
   ]
  },
  {
   "cell_type": "code",
   "execution_count": null,
   "metadata": {},
   "outputs": [],
   "source": []
  }
 ],
 "metadata": {
  "kernelspec": {
   "display_name": ".venv",
   "language": "python",
   "name": "python3"
  },
  "language_info": {
   "codemirror_mode": {
    "name": "ipython",
    "version": 3
   },
   "file_extension": ".py",
   "mimetype": "text/x-python",
   "name": "python",
   "nbconvert_exporter": "python",
   "pygments_lexer": "ipython3",
   "version": "3.11.8"
  }
 },
 "nbformat": 4,
 "nbformat_minor": 2
}
