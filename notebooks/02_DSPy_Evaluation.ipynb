{
 "cells": [
  {
   "cell_type": "markdown",
   "metadata": {},
   "source": [
    "# Story Generator - Winnie the Pooh \n",
    "\n",
    "## Part 3: Integrating Readability Metrics into DSPy Module\n",
    "\n",
    "[1. Imports and environment](#1-imports-and-environment)\n",
    "\n",
    "[2. DSPy set up](#2-dspy-set-up)\n",
    "\n",
    "[3. Evaluation metrics](#3-evaluation-metrics)"
   ]
  },
  {
   "cell_type": "markdown",
   "metadata": {},
   "source": [
    "### 1. Imports and environment"
   ]
  },
  {
   "cell_type": "code",
   "execution_count": 1,
   "metadata": {},
   "outputs": [],
   "source": [
    "#pip install dspy-ai openai chromadb sentence_transformers spacy textstat asyncio deepeval"
   ]
  },
  {
   "cell_type": "code",
   "execution_count": 2,
   "metadata": {},
   "outputs": [
    {
     "data": {
      "text/plain": [
       "True"
      ]
     },
     "execution_count": 2,
     "metadata": {},
     "output_type": "execute_result"
    }
   ],
   "source": [
    "import os\n",
    "os.environ['DEEPEVAL_TELEMETRY_OPT_OUT'] = \"YES\"\n",
    "\n",
    "\n",
    "import dspy\n",
    "from dspy.retrieve.chromadb_rm import ChromadbRM\n",
    "import chromadb\n",
    "from chromadb.utils import embedding_functions\n",
    "import dotenv\n",
    "\n",
    "from deepeval.metrics import AnswerRelevancyMetric\n",
    "from deepeval.test_case import LLMTestCase\n",
    "\n",
    "from evaluation_metrics import *\n",
    "\n",
    "\n",
    "# Establish paths\n",
    "CHROMA_PATH = '../data/chroma_db'\n",
    "DB_COLLECTION = \"winnie_the_pooh\"\n",
    "default_ef = embedding_functions.DefaultEmbeddingFunction()\n",
    "\n",
    "# Set up OpenAI API key\n",
    "dotenv.load_dotenv()\n",
    "#openai_key = os.getenv('OPENAI_API_KEY')"
   ]
  },
  {
   "cell_type": "markdown",
   "metadata": {},
   "source": [
    "### 2. DSPy Set up\n",
    "\n",
    "Taken from previous notebook."
   ]
  },
  {
   "cell_type": "code",
   "execution_count": 3,
   "metadata": {},
   "outputs": [],
   "source": [
    "# Configure OpenAI as the language model\n",
    "llm = dspy.OpenAI(model=\"gpt-4o-mini\", max_tokens=1000, temperature=1.0)\n",
    "\n",
    "# Set up Chroma client and retriever\n",
    "chroma_client = chromadb.PersistentClient(path=CHROMA_PATH)\n",
    "collection = chroma_client.get_collection(DB_COLLECTION)\n",
    "\n",
    "# Set up ChromadbRM as the retriever model\n",
    "chroma_retriever = ChromadbRM(\n",
    "    collection_name=DB_COLLECTION, \n",
    "    persist_directory=CHROMA_PATH, \n",
    "    embedding_function=default_ef,\n",
    "    )\n",
    "\n",
    "# Configure DSPy settings\n",
    "dspy.settings.configure(lm=llm, rm=chroma_retriever)"
   ]
  },
  {
   "cell_type": "code",
   "execution_count": 4,
   "metadata": {},
   "outputs": [],
   "source": [
    "\n",
    "class GenerateStory(dspy.Signature):\n",
    "    \"\"\"Generate a Winnie the Pooh style story.\"\"\"\n",
    "    name = dspy.InputField()\n",
    "    prompt = dspy.InputField(desc=\"details to include in the story.\")\n",
    "    context = dspy.InputField(desc=\"relevant passages from Winnie the Pooh stories and story structure.\")\n",
    "    story = dspy.OutputField(desc=\"generate a one-minute story for a child. Name is the main character who is friends with Pooh, and finish the story with 'The End.'\")\n",
    "\n",
    "\n",
    "class StoryGenerator(dspy.Module):\n",
    "    def __init__(self, chroma_retriever):\n",
    "        super().__init__()\n",
    "        self.retriever = chroma_retriever\n",
    "        self.generate = dspy.ChainOfThought(GenerateStory)\n",
    "\n",
    "    def forward(self, name, prompt):\n",
    "        retrieved = self.retriever(prompt, k=8)\n",
    "        retrieved_context = [doc.long_text for doc in retrieved]\n",
    "        context = \"\\n\".join(retrieved_context)\n",
    "        \n",
    "        result = self.generate(context=context, prompt=prompt, name=name)\n",
    "        return dspy.Prediction(story=result.story)\n",
    "\n",
    "story_gen = StoryGenerator(chroma_retriever)"
   ]
  },
  {
   "cell_type": "code",
   "execution_count": 5,
   "metadata": {},
   "outputs": [
    {
     "name": "stderr",
     "output_type": "stream",
     "text": [
      "WARNING:root:\t*** In DSPy 2.5, all LM clients except `dspy.LM` are deprecated, underperform, and are about to be deleted. ***\n",
      " \t\tYou are using the client GPT3, which will be removed in DSPy 2.6.\n",
      " \t\tChanging the client is straightforward and will let you use new features (Adapters) that improve the consistency of LM outputs, especially when using chat LMs. \n",
      "\n",
      " \t\tLearn more about the changes and how to migrate at\n",
      " \t\thttps://github.com/stanfordnlp/dspy/blob/main/examples/migration.ipynb\n"
     ]
    },
    {
     "name": "stdout",
     "output_type": "stream",
     "text": [
      "Once upon a time in the wonderful Hundred Acre Wood, there lived a cheerful little girl named Hannah. One sunny morning, while wandering through the forest, she heard a familiar hum. It was her dear friend, Winnie the Pooh! \n",
      "\n",
      "“Hannah!” called Pooh, bouncing up and down with excitement. “I just discovered the most delicious honey up in that tall tree!” He pointed to a grand oak that seemed to touch the sky. \n",
      "\n",
      "“Let’s climb it together, Pooh!” Hannah exclaimed. So, hand in paw, they began their adventure. As they climbed higher and higher, Hannah sang a little song:\n",
      "\n",
      "“Isn’t it funny,\n",
      "How we climb this tree,\n",
      "To find some honey,\n",
      "Just Pooh and me?”\n",
      "\n",
      "Pooh chuckled as they climbed, his little belly bouncing along. “Oh, how I love honey!” he said. \n",
      "\n",
      "After a few moments, they reached a sturdy branch with a view of the whole forest. “Look, Hannah! There’s the river and all our friends down below!” Pooh exclaimed.\n",
      "\n",
      "“Wow, Pooh! This is wonderful!” Hannah replied with wide eyes. \n",
      "\n",
      "But just then, a gentle breeze blew, and a small pot of honey that Pooh had brought began to wobble at the edge of the branch. “Oh no!” gasped Hannah. “It’s going to fall!”\n",
      "\n",
      "Just in time, Pooh quickly grabbed the pot with his paws. “Phew! That was close!” he said, looking relieved. They both laughed.\n",
      "\n",
      "After admiring the beautiful view and sharing the delicious honey — droppings and all — they climbed back down. Hannah and Pooh felt so proud of their little adventure in the trees.\n",
      "\n",
      "As they walked back, Pooh said happily, “You know, Hannah, climbing trees is much better when you have a friend!”\n",
      "\n",
      "“Yes, Pooh!” Hannah agreed, smiling from ear to ear. “The best adventures are always with friends!”\n",
      "\n",
      "And so they continued their day, off to make more memories in the big, wide world of the Hundred Acre Wood.\n",
      "\n",
      "The End.\n"
     ]
    }
   ],
   "source": [
    "name= 'Hannah'\n",
    "prompt = \"They go on an adventure and climb a tree.\"\n",
    "\n",
    "\n",
    "new_story = story_gen(name, prompt)\n",
    "print(new_story.story)"
   ]
  },
  {
   "cell_type": "markdown",
   "metadata": {},
   "source": [
    "### 3. Evaluation metrics"
   ]
  },
  {
   "cell_type": "markdown",
   "metadata": {},
   "source": [
    "#### DeepEval - Answer Relevancy"
   ]
  },
  {
   "cell_type": "code",
   "execution_count": 6,
   "metadata": {},
   "outputs": [
    {
     "data": {
      "application/vnd.jupyter.widget-view+json": {
       "model_id": "c484cdbcfefb4e60a164fbaaa9227757",
       "version_major": 2,
       "version_minor": 0
      },
      "text/plain": [
       "Output()"
      ]
     },
     "metadata": {},
     "output_type": "display_data"
    },
    {
     "data": {
      "text/html": [
       "<pre style=\"white-space:pre;overflow-x:auto;line-height:normal;font-family:Menlo,'DejaVu Sans Mono',consolas,'Courier New',monospace\">Event loop is already running. Applying nest_asyncio patch to allow async execution...\n",
       "</pre>\n"
      ],
      "text/plain": [
       "Event loop is already running. Applying nest_asyncio patch to allow async execution...\n"
      ]
     },
     "metadata": {},
     "output_type": "display_data"
    },
    {
     "data": {
      "text/html": [
       "<pre style=\"white-space:pre;overflow-x:auto;line-height:normal;font-family:Menlo,'DejaVu Sans Mono',consolas,'Courier New',monospace\"></pre>\n"
      ],
      "text/plain": []
     },
     "metadata": {},
     "output_type": "display_data"
    },
    {
     "name": "stdout",
     "output_type": "stream",
     "text": [
      "0.4090909090909091\n",
      "The score is 0.41 because while some elements of the output touch on adventure, many statements are irrelevant to the core theme of tree climbing and do not provide actionable or relevant details about the adventure.\n"
     ]
    }
   ],
   "source": [
    "\n",
    "actual_output = new_story.story\n",
    "\n",
    "\n",
    "# Initialize the AnswerRelevancyMetric\n",
    "metric_relecancy = AnswerRelevancyMetric(\n",
    "    threshold=0.7,\n",
    "    model=\"gpt-4o-mini\",\n",
    "    include_reason=True\n",
    ")\n",
    "\n",
    "test_case = LLMTestCase(\n",
    "    input=prompt,\n",
    "    actual_output=actual_output\n",
    ")\n",
    "\n",
    "# Calculate the relevancy score\n",
    "metric_relecancy.measure(test_case)\n",
    "print(metric_relecancy.score)\n",
    "print(metric_relecancy.reason)"
   ]
  },
  {
   "cell_type": "markdown",
   "metadata": {},
   "source": [
    "DeepEval's built-in AnswerRelevancyMetric does not seem to be an appropriate metric in this case. Generating a fictional story will inevitably include \"irrelevant\" text from the context. I will instead define a metric that will better assess the appropriateness of the output, by measuring the readability of the generated story. "
   ]
  },
  {
   "cell_type": "markdown",
   "metadata": {},
   "source": [
    "#### Readability Score (Flesch-Kincaid Grade)"
   ]
  },
  {
   "cell_type": "code",
   "execution_count": 7,
   "metadata": {},
   "outputs": [
    {
     "name": "stdout",
     "output_type": "stream",
     "text": [
      "Readability acceptable: False\n",
      "Readability score: 4.3\n"
     ]
    }
   ],
   "source": [
    "\n",
    "test_case = LLMTestCase(input=prompt, actual_output=new_story.story)\n",
    "metric = ReadabilityMetric(threshold_high=3.0, threshold_low=2.0)\n",
    "\n",
    "result = metric.measure(test_case)\n",
    "\n",
    "print(\"Readability acceptable:\", result)\n",
    "print(f\"Readability score: {calculate_readability_scores(new_story.story)['Flesch-Kincaid Grade']}\")"
   ]
  },
  {
   "cell_type": "markdown",
   "metadata": {},
   "source": [
    "The actual Winnie the Pooh stories have an average readability score 3.8, and standard deviation of 0.8. I would like the generated stories to fall within one standard deviations of the mean, or within the range of 3.0-4.6. "
   ]
  },
  {
   "cell_type": "code",
   "execution_count": 8,
   "metadata": {},
   "outputs": [],
   "source": [
    "def evaluate_readability(name, prompt):\n",
    "    \"\"\"\n",
    "    Generate a story and evaluate its readability.\n",
    "\n",
    "    input: name, prompt\n",
    "    output: readability pass (bool), generated story\n",
    "    \"\"\"\n",
    "\n",
    "    new_story = story_gen(name,prompt)\n",
    "    actual_output = new_story.story\n",
    "\n",
    "    # Initialize the ReadabilityMetric\n",
    "    metric = ReadabilityMetric(\n",
    "        threshold_high=4.6,\n",
    "        #threshold_low=0.0\n",
    "    )\n",
    "\n",
    "    test_case = LLMTestCase(\n",
    "        input= prompt,\n",
    "        actual_output=actual_output\n",
    "    )\n",
    "\n",
    "    return metric.measure(test_case), actual_output\n",
    "\n",
    "\n",
    "def print_story(name, prompt):\n",
    "    \"\"\" \n",
    "    print the story if it passes the readability metric, try again with simpler words and sentences if it fails,\n",
    "    otherwise provide a suggestion to simplify the story.\n",
    "\n",
    "    input: name, prompt\n",
    "    output: story or suggestion\n",
    "    \"\"\"\n",
    "    results = evaluate_readability(name, prompt)\n",
    "\n",
    "    pass_metric = results[0]\n",
    "\n",
    "    if pass_metric:\n",
    "        return results[1]\n",
    "\n",
    "    else:\n",
    "        new_prompt = prompt + \" Write the story using simplistic words and sentences.\"\n",
    "\n",
    "        new_results = evaluate_readability(name, new_prompt)\n",
    "\n",
    "        if new_results[0]:\n",
    "            #print(\"Second Try: \\n\", new_results[1]) \n",
    "            return new_results[1]\n",
    "\n",
    "        else:\n",
    "            return \"I'm sorry, I was not able to write you a story. Try a different prompt.\"\n"
   ]
  },
  {
   "cell_type": "code",
   "execution_count": 9,
   "metadata": {},
   "outputs": [
    {
     "data": {
      "text/plain": [
       "'Once upon a time in the wonderful Hundred Acre Wood, there lived a cheerful little girl named Hannah. One sunny morning, while wandering through the forest, she heard a familiar hum. It was her dear friend, Winnie the Pooh! \\n\\n“Hannah!” called Pooh, bouncing up and down with excitement. “I just discovered the most delicious honey up in that tall tree!” He pointed to a grand oak that seemed to touch the sky. \\n\\n“Let’s climb it together, Pooh!” Hannah exclaimed. So, hand in paw, they began their adventure. As they climbed higher and higher, Hannah sang a little song:\\n\\n“Isn’t it funny,\\nHow we climb this tree,\\nTo find some honey,\\nJust Pooh and me?”\\n\\nPooh chuckled as they climbed, his little belly bouncing along. “Oh, how I love honey!” he said. \\n\\nAfter a few moments, they reached a sturdy branch with a view of the whole forest. “Look, Hannah! There’s the river and all our friends down below!” Pooh exclaimed.\\n\\n“Wow, Pooh! This is wonderful!” Hannah replied with wide eyes. \\n\\nBut just then, a gentle breeze blew, and a small pot of honey that Pooh had brought began to wobble at the edge of the branch. “Oh no!” gasped Hannah. “It’s going to fall!”\\n\\nJust in time, Pooh quickly grabbed the pot with his paws. “Phew! That was close!” he said, looking relieved. They both laughed.\\n\\nAfter admiring the beautiful view and sharing the delicious honey — droppings and all — they climbed back down. Hannah and Pooh felt so proud of their little adventure in the trees.\\n\\nAs they walked back, Pooh said happily, “You know, Hannah, climbing trees is much better when you have a friend!”\\n\\n“Yes, Pooh!” Hannah agreed, smiling from ear to ear. “The best adventures are always with friends!”\\n\\nAnd so they continued their day, off to make more memories in the big, wide world of the Hundred Acre Wood.\\n\\nThe End.'"
      ]
     },
     "execution_count": 9,
     "metadata": {},
     "output_type": "execute_result"
    }
   ],
   "source": [
    "test_name = 'Hannah'\n",
    "test_prompt = \"They go on an adventure and climb a tree.\"\n",
    "\n",
    "print_story(test_name, test_prompt)"
   ]
  },
  {
   "cell_type": "markdown",
   "metadata": {},
   "source": [
    "### 4. Gradio UI"
   ]
  },
  {
   "cell_type": "code",
   "execution_count": 10,
   "metadata": {},
   "outputs": [
    {
     "name": "stdout",
     "output_type": "stream",
     "text": [
      "* Running on local URL:  http://127.0.0.1:7860\n",
      "\n",
      "To create a public link, set `share=True` in `launch()`.\n"
     ]
    },
    {
     "data": {
      "text/html": [
       "<div><iframe src=\"http://127.0.0.1:7860/\" width=\"100%\" height=\"500\" allow=\"autoplay; camera; microphone; clipboard-read; clipboard-write;\" frameborder=\"0\" allowfullscreen></iframe></div>"
      ],
      "text/plain": [
       "<IPython.core.display.HTML object>"
      ]
     },
     "metadata": {},
     "output_type": "display_data"
    },
    {
     "data": {
      "text/plain": []
     },
     "execution_count": 10,
     "metadata": {},
     "output_type": "execute_result"
    }
   ],
   "source": [
    "import gradio as gr\n",
    "from theme_violet_amber import theme as violet_amber\n",
    "\n",
    "\n",
    "# Gradio UI\n",
    "with gr.Blocks(theme=violet_amber) as demo:\n",
    "    gr.Markdown(\n",
    "    \"\"\"\n",
    "    # Winnie the Pooh Story Generator\n",
    "    *Simply enter a character name and setting, then I will write a story from the Hundred Acre Woods for you!*\n",
    "    \"\"\")\n",
    "    textbox = gr.Textbox(label=\"Character Name\")\n",
    "    textbox2 = gr.Textbox(label=\"Story Setting\")\n",
    "    \n",
    "    with gr.Row():\n",
    "        button = gr.Button(\"Submit\", variant=\"primary\")\n",
    "        clear = gr.Button('Clear')\n",
    "    \n",
    "    output = gr.Textbox(label=\"A story for you... \")\n",
    "    \n",
    "    button.click(print_story, [textbox, textbox2], output)\n",
    "\n",
    "demo.launch()\n"
   ]
  },
  {
   "cell_type": "code",
   "execution_count": 11,
   "metadata": {},
   "outputs": [
    {
     "name": "stdout",
     "output_type": "stream",
     "text": [
      "Closing server running on port: 7860\n"
     ]
    }
   ],
   "source": [
    "demo.close()"
   ]
  }
 ],
 "metadata": {
  "kernelspec": {
   "display_name": ".venv",
   "language": "python",
   "name": "python3"
  },
  "language_info": {
   "codemirror_mode": {
    "name": "ipython",
    "version": 3
   },
   "file_extension": ".py",
   "mimetype": "text/x-python",
   "name": "python",
   "nbconvert_exporter": "python",
   "pygments_lexer": "ipython3",
   "version": "3.11.8"
  }
 },
 "nbformat": 4,
 "nbformat_minor": 2
}
