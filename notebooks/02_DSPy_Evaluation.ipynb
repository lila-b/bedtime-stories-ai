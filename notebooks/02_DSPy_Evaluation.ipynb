{
 "cells": [
  {
   "cell_type": "markdown",
   "metadata": {},
   "source": [
    "# Story Generator - Winnie the Pooh \n",
    "\n",
    "## Part 2: Simple DSPy Retriever and Module\n",
    "\n",
    "[1. Imports and environment](#1-imports-and-environment)\n",
    "\n",
    "[2. Chroma retriever](#2-chroma-retriever)\n",
    "\n",
    "[3. DSPy module](#3-dspy-module)\n",
    "\n",
    "[4. Testing StoryGenerator](#4-testing-storygenerator)\n",
    "\n",
    "[5. Evaluation metrics - readability](#5-evaluation-metrics---readability)"
   ]
  },
  {
   "cell_type": "markdown",
   "metadata": {},
   "source": [
    "### 1. Imports and environment"
   ]
  },
  {
   "cell_type": "code",
   "execution_count": 1,
   "metadata": {},
   "outputs": [],
   "source": [
    "#pip install dspy-ai openai chromadb sentence_transformers spacy textstat"
   ]
  },
  {
   "cell_type": "code",
   "execution_count": null,
   "metadata": {},
   "outputs": [
    {
     "data": {
      "text/plain": [
       "True"
      ]
     },
     "execution_count": 2,
     "metadata": {},
     "output_type": "execute_result"
    }
   ],
   "source": [
    "import dspy\n",
    "from dspy.retrieve.chromadb_rm import ChromadbRM\n",
    "import chromadb\n",
    "from chromadb.utils import embedding_functions\n",
    "import dotenv\n",
    "\n",
    "from deepeval.metrics import AnswerRelevancyMetric, BaseMetric \n",
    "from deepeval.test_case import LLMTestCase\n",
    "\n",
    "from evaluation_metrics import *\n",
    "\n",
    "\n",
    "# Establish paths\n",
    "CHROMA_PATH = '../data/chroma_db'\n",
    "DB_COLLECTION = \"winnie_the_pooh\"\n",
    "default_ef = embedding_functions.DefaultEmbeddingFunction()\n",
    "\n",
    "# Set up OpenAI API key\n",
    "dotenv.load_dotenv()\n",
    "#openai_key = os.getenv('OPENAI_API_KEY')"
   ]
  },
  {
   "cell_type": "markdown",
   "metadata": {},
   "source": [
    "### 2. DSPy Set up\n",
    "\n",
    "Taken from previous notebook."
   ]
  },
  {
   "cell_type": "code",
   "execution_count": 3,
   "metadata": {},
   "outputs": [],
   "source": [
    "# Configure OpenAI as the language model\n",
    "llm = dspy.OpenAI(model=\"gpt-4o-mini\", max_tokens=1000, temperature=1.0)\n",
    "\n",
    "# Set up Chroma client and retriever\n",
    "chroma_client = chromadb.PersistentClient(path=CHROMA_PATH)\n",
    "collection = chroma_client.get_collection(DB_COLLECTION)\n",
    "\n",
    "# Set up ChromadbRM as the retriever model\n",
    "chroma_retriever = ChromadbRM(\n",
    "    collection_name=DB_COLLECTION, \n",
    "    persist_directory=CHROMA_PATH, \n",
    "    embedding_function=default_ef,\n",
    "    )\n",
    "\n",
    "# Configure DSPy settings\n",
    "dspy.settings.configure(lm=llm, rm=chroma_retriever)"
   ]
  },
  {
   "cell_type": "code",
   "execution_count": 7,
   "metadata": {},
   "outputs": [],
   "source": [
    "\n",
    "class GenerateStory(dspy.Signature):\n",
    "    \"\"\"Generate a Winnie the Pooh style story.\"\"\"\n",
    "    name = dspy.InputField()\n",
    "    prompt = dspy.InputField(desc=\"details to include in the story.\")\n",
    "    context = dspy.InputField(desc=\"relevant passages from Winnie the Pooh stories and story structure.\")\n",
    "    story = dspy.OutputField(desc=\"generate a one-minute story for a child. Name is the main character who is friends with Pooh, and finish the story with 'The End.'\")\n",
    "\n",
    "\n",
    "class StoryGenerator(dspy.Module):\n",
    "    def __init__(self, chroma_retriever):\n",
    "        super().__init__()\n",
    "        self.retriever = chroma_retriever\n",
    "        self.generate = dspy.ChainOfThought(GenerateStory)\n",
    "\n",
    "    def forward(self, name, prompt):\n",
    "        retrieved = self.retriever(prompt, k=8)\n",
    "        retrieved_context = [doc.long_text for doc in retrieved]\n",
    "        context = \"\\n\".join(retrieved_context)\n",
    "        \n",
    "        result = self.generate(context=context, prompt=prompt, name=name)\n",
    "        return dspy.Prediction(story=result.story)\n",
    "\n",
    "story_gen = StoryGenerator(chroma_retriever)"
   ]
  },
  {
   "cell_type": "code",
   "execution_count": 24,
   "metadata": {},
   "outputs": [
    {
     "name": "stdout",
     "output_type": "stream",
     "text": [
      "Once upon a time in the Hundred Acre Wood, there lived a cheerful little girl named Hannah. She was the best of friends with Pooh, who was always in search of honey. One sunny morning, Hannah said, “Pooh, let’s climb that big tree over there! I want to see the world from up high!” \n",
      "\n",
      "“Climb a tree? Oh, that sounds like a splendid idea!” Pooh replied, his eyes shining with excitement. So off they went, arms and legs moving cheerfully towards the tall tree that tickled the clouds.\n",
      "\n",
      "As they approached, Pooh looked up and sang a little song to himself: \n",
      "“Isn't it funny, \n",
      "How a bear likes honey?\n",
      "Buzz! Buzz! Buzz! \n",
      "I hope there’s some that I can see!”\n",
      "\n",
      "Hannah giggled and began to climb, her little feet finding the branches easily as she went higher and higher. “Look, Pooh! I can see the pond and Rabbit’s house from up here!” she called out.\n",
      "\n",
      "Pooh climbed slowly, careful not to lose his balance. “Oh dear, I love how the sun shines on the leaves like honey on toast!” he exclaimed, smiling at the beautiful view.\n",
      "\n",
      "At last, they reached a sturdy branch where they could sit side by side. They looked out over the magical forest below, where the streams danced and the flowers bloomed brightly.\n",
      "\n",
      "“Isn’t this the greatest adventure, Pooh?” Hannah beamed.\n",
      "\n",
      "“Yes!” replied Pooh with a satisfied grin. “But now that we’re up here, I wouldn’t mind a taste of honey.”\n",
      "\n",
      "They both laughed and sat together, sharing stories about their day's adventures among the branches.\n",
      "\n",
      "As the sun began to set, painting the sky with golden hues, they decided it was time to climb back down, still giggling about their perfect day. \n",
      "\n",
      "And so, hand in paw, they ventured carefully back to the ground, their hearts full of joy. \n",
      "\n",
      "The End.\n"
     ]
    }
   ],
   "source": [
    "name= 'Hannah'\n",
    "prompt = \"They go on an adventure and climb a tree.\"\n",
    "\n",
    "new_name = 'Hannah'\n",
    "new_prompt = \"They go on an adventure and climb a tree.\"\n",
    "\n",
    "new_story = story_gen(name, prompt)\n",
    "print(new_story.story)"
   ]
  },
  {
   "cell_type": "markdown",
   "metadata": {},
   "source": [
    "### 3. Evaluation metrics"
   ]
  },
  {
   "cell_type": "markdown",
   "metadata": {},
   "source": [
    "#### DeepEval - Answer Relevancy"
   ]
  },
  {
   "cell_type": "code",
   "execution_count": 25,
   "metadata": {},
   "outputs": [
    {
     "data": {
      "application/vnd.jupyter.widget-view+json": {
       "model_id": "a65d783d58f3495891569bce3a2a2c3e",
       "version_major": 2,
       "version_minor": 0
      },
      "text/plain": [
       "Output()"
      ]
     },
     "metadata": {},
     "output_type": "display_data"
    },
    {
     "data": {
      "text/html": [
       "<pre style=\"white-space:pre;overflow-x:auto;line-height:normal;font-family:Menlo,'DejaVu Sans Mono',consolas,'Courier New',monospace\">Event loop is already running. Applying nest_asyncio patch to allow async execution...\n",
       "</pre>\n"
      ],
      "text/plain": [
       "Event loop is already running. Applying nest_asyncio patch to allow async execution...\n"
      ]
     },
     "metadata": {},
     "output_type": "display_data"
    },
    {
     "data": {
      "text/html": [
       "<pre style=\"white-space:pre;overflow-x:auto;line-height:normal;font-family:Menlo,'DejaVu Sans Mono',consolas,'Courier New',monospace\"></pre>\n"
      ],
      "text/plain": []
     },
     "metadata": {},
     "output_type": "display_data"
    },
    {
     "name": "stdout",
     "output_type": "stream",
     "text": [
      "0.6875\n",
      "The score is 0.69 because while the output contains relevant elements of an adventure, it includes several irrelevant statements that distract from the primary focus of climbing the tree. These extraneous details about characters and their feelings dilute the central narrative, preventing the score from being higher.\n"
     ]
    }
   ],
   "source": [
    "\n",
    "actual_output = new_story.story\n",
    "\n",
    "\n",
    "# Initialize the AnswerRelevancyMetric\n",
    "metric = AnswerRelevancyMetric(\n",
    "    threshold=0.7,\n",
    "    model=\"gpt-4o-mini\",\n",
    "    include_reason=True\n",
    ")\n",
    "\n",
    "test_case = LLMTestCase(\n",
    "    input=prompt,\n",
    "    actual_output=actual_output\n",
    ")\n",
    "\n",
    "# Calculate the relevancy score\n",
    "metric.measure(test_case)\n",
    "print(metric.score)\n",
    "print(metric.reason)"
   ]
  },
  {
   "cell_type": "markdown",
   "metadata": {},
   "source": [
    "DeepEval's built-in AnswerRelevancyMetric does not seem to be an appropriate metric in this case. Generating a fictional story will inevitably include \"irrelevant\" text from the context. I will instead define a metric that will better assess the appropriateness of the output, by measuring the readability of the generated story. "
   ]
  },
  {
   "cell_type": "markdown",
   "metadata": {},
   "source": [
    "#### Readability Score (Flesch-Kincaid Grade)"
   ]
  },
  {
   "cell_type": "code",
   "execution_count": 26,
   "metadata": {},
   "outputs": [
    {
     "name": "stdout",
     "output_type": "stream",
     "text": [
      "Readability acceptable: False\n",
      "Readability score: 4.7\n"
     ]
    }
   ],
   "source": [
    "\n",
    "test_case = LLMTestCase(input=prompt, actual_output=new_story.story)\n",
    "readability_metric = ReadabilityMetric(threshold_high=3.0, threshold_low=2.0)\n",
    "result = readability_metric.measure(test_case)\n",
    "print(\"Readability acceptable:\", result)\n",
    "print(f\"Readability score: {calculate_readability_scores(new_story.story)['Flesch-Kincaid Grade']}\")"
   ]
  },
  {
   "cell_type": "markdown",
   "metadata": {},
   "source": [
    "The actual Winnie the Pooh stories have an average readability score 3.8, and standard deviation of 0.8. I would like the generated stories to fall within one standard deviations of the mean, or within the range of 3.0-4.6. "
   ]
  },
  {
   "cell_type": "code",
   "execution_count": 27,
   "metadata": {},
   "outputs": [],
   "source": [
    "def evaluate_readability(name, prompt):\n",
    "    \"\"\"\n",
    "    Generate a story and evaluate its readability.\n",
    "\n",
    "    input: name, prompt\n",
    "    output: readability pass (bool), generated story\n",
    "    \"\"\"\n",
    "\n",
    "    new_story = story_gen(name,prompt)\n",
    "    actual_output = new_story.story\n",
    "\n",
    "    # Initialize the ReadabilityMetric\n",
    "    metric = ReadabilityMetric(\n",
    "        threshold_high=4.6,\n",
    "        threshold_low=3.0\n",
    "    )\n",
    "\n",
    "    test_case = LLMTestCase(\n",
    "        input= prompt,\n",
    "        actual_output=actual_output\n",
    "    )\n",
    "\n",
    "    return metric.measure(test_case), actual_output\n",
    "\n",
    "\n",
    "def print_story(name, prompt):\n",
    "    \"\"\" \n",
    "    print the story if it passes the readability metric, try again with simpler words and sentences if it fails,\n",
    "    otherwise provide a suggestion to simplify the story.\n",
    "\n",
    "    input: name, prompt\n",
    "    output: story or suggestion\n",
    "    \"\"\"\n",
    "    results = evaluate_readability(name, prompt)\n",
    "\n",
    "    pass_metric = results[0]\n",
    "\n",
    "    if pass_metric:\n",
    "        print(results[1])\n",
    "\n",
    "    else:\n",
    "        new_prompt = prompt + \" Write the story using simplistic words and sentences.\"\n",
    "\n",
    "        new_results = evaluate_readability(name, new_prompt)\n",
    "\n",
    "        if new_results[0]:\n",
    "            print(\"Second Try: \\n\", new_results[1])\n",
    "\n",
    "        else:\n",
    "            return \"I'm sorry, I was not able to write you a story. Try a different setting.\"\n"
   ]
  },
  {
   "cell_type": "code",
   "execution_count": 28,
   "metadata": {},
   "outputs": [
    {
     "name": "stdout",
     "output_type": "stream",
     "text": [
      "Second Try: \n",
      " Once upon a time, in the lovely Hundred Acre Wood, there lived a little girl named Hannah. She was a brave friend of Winnie-the-Pooh. One sunny day, Hannah said, \"Let’s go on an adventure, Pooh!\" \n",
      "\n",
      "Pooh smiled and nodded. \"Oh, yes! Adventures are very nice!\" So, off they went, laughing and singing as they wandered through the tall trees and bright flowers. \n",
      "\n",
      "After a while, they came to a big tree. It was the biggest tree they had ever seen! \"Look, Pooh! Let’s climb it!\" Hannah said excitedly. Pooh loved this idea. “Oh, I do love climbing—sometimes I see honey from up high!” he replied.\n",
      "\n",
      "Hannah took a deep breath and began to climb. “One step, two steps, three steps!” she counted. Pooh followed along, a little slower because he was thinking of honey. “I think I smell honey!” he exclaimed as they climbed higher.\n",
      "\n",
      "When they reached the first branch, they stopped to look around. “Oh, what a wonderful view!” said Hannah. The flowers looked like tiny dots below them. Pooh said, “And I can see my house from up here!”\n",
      "\n",
      "Just then, a gentle breeze blew, and they both giggled. “This is such fun!” shouted Hannah. “Yes, such fun!” Pooh agreed, and they both laughed happily.\n",
      "\n",
      "After a bit, they carefully climbed back down the tree. When they touched the ground, Hannah said, \"What a great adventure we had, Pooh!\" \n",
      "\n",
      "“Indeed! And I think I’m ready for a tasty snack now,” Pooh added with a smile. \n",
      "\n",
      "So they walked back to Pooh’s house, ready to enjoy some honey together. \n",
      "\n",
      "And they lived happily in the Hundred Acre Wood, where every day was a new adventure.\n",
      "\n",
      "The End.\n"
     ]
    }
   ],
   "source": [
    "new_name = 'Hannah'\n",
    "new_prompt = \"They go on an adventure and climb a tree.\"\n",
    "\n",
    "print_story(new_name, new_prompt)"
   ]
  },
  {
   "cell_type": "code",
   "execution_count": null,
   "metadata": {},
   "outputs": [],
   "source": []
  }
 ],
 "metadata": {
  "kernelspec": {
   "display_name": ".venv",
   "language": "python",
   "name": "python3"
  },
  "language_info": {
   "codemirror_mode": {
    "name": "ipython",
    "version": 3
   },
   "file_extension": ".py",
   "mimetype": "text/x-python",
   "name": "python",
   "nbconvert_exporter": "python",
   "pygments_lexer": "ipython3",
   "version": "3.11.8"
  }
 },
 "nbformat": 4,
 "nbformat_minor": 2
}
